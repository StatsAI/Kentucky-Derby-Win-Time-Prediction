{
 "cells": [
  {
   "cell_type": "code",
   "execution_count": 36,
   "metadata": {
    "collapsed": false
   },
   "outputs": [
    {
     "data": {
      "text/html": [
       "<div>\n",
       "<table border=\"1\" class=\"dataframe\">\n",
       "  <thead>\n",
       "    <tr style=\"text-align: right;\">\n",
       "      <th></th>\n",
       "      <th>year</th>\n",
       "      <th>winner</th>\n",
       "      <th>sire</th>\n",
       "      <th>dam</th>\n",
       "      <th>second_place</th>\n",
       "      <th>third_place</th>\n",
       "      <th>time</th>\n",
       "      <th>dist</th>\n",
       "      <th>track_cond</th>\n",
       "      <th>weather_high</th>\n",
       "      <th>weather_low</th>\n",
       "      <th>24_hour_precip</th>\n",
       "      <th>1pm_7pm_precip</th>\n",
       "      <th>weather</th>\n",
       "    </tr>\n",
       "  </thead>\n",
       "  <tbody>\n",
       "    <tr>\n",
       "      <th>0</th>\n",
       "      <td>2017</td>\n",
       "      <td>Always Dreaming</td>\n",
       "      <td>Bodemeister</td>\n",
       "      <td>Above Perfection</td>\n",
       "      <td>Lookin At Lee</td>\n",
       "      <td>Battle of Midway</td>\n",
       "      <td>02:03.6</td>\n",
       "      <td>10 F</td>\n",
       "      <td>Sloppy</td>\n",
       "      <td>62</td>\n",
       "      <td>42</td>\n",
       "      <td>0.12\"</td>\n",
       "      <td>0.02\"</td>\n",
       "      <td>Showers</td>\n",
       "    </tr>\n",
       "    <tr>\n",
       "      <th>1</th>\n",
       "      <td>2016</td>\n",
       "      <td>Nyquist</td>\n",
       "      <td>Uncle Mo</td>\n",
       "      <td>Seeking Gabrielle</td>\n",
       "      <td>Exaggerator</td>\n",
       "      <td>Gun Runner</td>\n",
       "      <td>02:01.3</td>\n",
       "      <td>10 F</td>\n",
       "      <td>Fast</td>\n",
       "      <td>85</td>\n",
       "      <td>59</td>\n",
       "      <td>0.28\"</td>\n",
       "      <td>0.04\"</td>\n",
       "      <td>Mostly Cloudy</td>\n",
       "    </tr>\n",
       "    <tr>\n",
       "      <th>2</th>\n",
       "      <td>2015</td>\n",
       "      <td>American Pharoah</td>\n",
       "      <td>Pioneerof The Nile</td>\n",
       "      <td>Littleprincessemma</td>\n",
       "      <td>Firing Line</td>\n",
       "      <td>Dortmund</td>\n",
       "      <td>02:03.0</td>\n",
       "      <td>10 F</td>\n",
       "      <td>Fast</td>\n",
       "      <td>79</td>\n",
       "      <td>52</td>\n",
       "      <td>0</td>\n",
       "      <td>0</td>\n",
       "      <td>Partly Cloudy</td>\n",
       "    </tr>\n",
       "    <tr>\n",
       "      <th>3</th>\n",
       "      <td>2014</td>\n",
       "      <td>California Chrome</td>\n",
       "      <td>Lucky Pulpit</td>\n",
       "      <td>Love The Chase</td>\n",
       "      <td>Commanding Curve</td>\n",
       "      <td>Danza</td>\n",
       "      <td>02:03.7</td>\n",
       "      <td>10 F</td>\n",
       "      <td>Fast</td>\n",
       "      <td>73</td>\n",
       "      <td>45</td>\n",
       "      <td>0</td>\n",
       "      <td>0</td>\n",
       "      <td>Mostly Sunny</td>\n",
       "    </tr>\n",
       "    <tr>\n",
       "      <th>4</th>\n",
       "      <td>2013</td>\n",
       "      <td>Orb</td>\n",
       "      <td>Malibu Moon</td>\n",
       "      <td>Lady Liberty</td>\n",
       "      <td>Golden Soul</td>\n",
       "      <td>Revolutionary</td>\n",
       "      <td>02:02.9</td>\n",
       "      <td>10 F</td>\n",
       "      <td>Sloppy</td>\n",
       "      <td>64</td>\n",
       "      <td>53</td>\n",
       "      <td>0.87\"</td>\n",
       "      <td>0.44\"</td>\n",
       "      <td>Rain</td>\n",
       "    </tr>\n",
       "  </tbody>\n",
       "</table>\n",
       "</div>"
      ],
      "text/plain": [
       "   year             winner                sire                 dam  \\\n",
       "0  2017    Always Dreaming         Bodemeister    Above Perfection   \n",
       "1  2016            Nyquist            Uncle Mo   Seeking Gabrielle   \n",
       "2  2015   American Pharoah  Pioneerof The Nile  Littleprincessemma   \n",
       "3  2014  California Chrome        Lucky Pulpit      Love The Chase   \n",
       "4  2013                Orb         Malibu Moon        Lady Liberty   \n",
       "\n",
       "       second_place       third_place     time  dist track_cond weather_high  \\\n",
       "0     Lookin At Lee  Battle of Midway  02:03.6  10 F     Sloppy           62   \n",
       "1       Exaggerator        Gun Runner  02:01.3  10 F       Fast           85   \n",
       "2       Firing Line          Dortmund  02:03.0  10 F       Fast           79   \n",
       "3  Commanding Curve             Danza  02:03.7  10 F       Fast           73   \n",
       "4       Golden Soul     Revolutionary  02:02.9  10 F     Sloppy           64   \n",
       "\n",
       "  weather_low 24_hour_precip 1pm_7pm_precip        weather  \n",
       "0          42          0.12\"          0.02\"        Showers  \n",
       "1          59          0.28\"          0.04\"  Mostly Cloudy  \n",
       "2          52              0              0  Partly Cloudy  \n",
       "3          45              0              0   Mostly Sunny  \n",
       "4          53          0.87\"          0.44\"           Rain  "
      ]
     },
     "execution_count": 36,
     "metadata": {},
     "output_type": "execute_result"
    }
   ],
   "source": [
    "import numpy as np\n",
    "import pandas as pd\n",
    "import sklearn as sk\n",
    "\n",
    "data = pd.read_csv('https://raw.githubusercontent.com/p-vs-np/Derby/master/derby.csv')\n",
    "data.columns = ['year', 'winner', 'sire', 'dam', 'second_place', 'third_place', 'time', \n",
    "              'dist', 'track_cond', 'weather_high', 'weather_low', '24_hour_precip', '1pm_7pm_precip', 'weather']\n",
    "data.head()"
   ]
  },
  {
   "cell_type": "code",
   "execution_count": 28,
   "metadata": {
    "collapsed": false
   },
   "outputs": [
    {
     "name": "stdout",
     "output_type": "stream",
     "text": [
      "<class 'pandas.core.frame.DataFrame'>\n",
      "year               int64\n",
      "winner            object\n",
      "sire              object\n",
      "dam               object\n",
      "second_place      object\n",
      "third_place       object\n",
      "time              object\n",
      "dist              object\n",
      "track_cond        object\n",
      "weather_high      object\n",
      "weather_low       object\n",
      "24_hour_precip    object\n",
      "1pm_7pm_precip    object\n",
      "weather           object\n",
      "dtype: object\n"
     ]
    }
   ],
   "source": [
    "print(type(data))\n",
    "print(data.dtypes)     "
   ]
  },
  {
   "cell_type": "code",
   "execution_count": 38,
   "metadata": {
    "collapsed": false
   },
   "outputs": [
    {
     "name": "stdout",
     "output_type": "stream",
     "text": [
      "['10' '12']\n"
     ]
    }
   ],
   "source": [
    "data['dist'] = data['dist'].str.replace('F','').str.strip()\n",
    "print(data['dist'].unique())\n"
   ]
  }
 ],
 "metadata": {
  "kernelspec": {
   "display_name": "Python 3",
   "language": "python",
   "name": "python3"
  },
  "language_info": {
   "codemirror_mode": {
    "name": "ipython",
    "version": 3
   },
   "file_extension": ".py",
   "mimetype": "text/x-python",
   "name": "python",
   "nbconvert_exporter": "python",
   "pygments_lexer": "ipython3",
   "version": "3.5.1"
  }
 },
 "nbformat": 4,
 "nbformat_minor": 0
}
